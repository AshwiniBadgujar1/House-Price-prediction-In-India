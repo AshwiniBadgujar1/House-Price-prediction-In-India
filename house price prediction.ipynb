{
 "cells": [
  {
   "cell_type": "code",
   "execution_count": 10,
   "id": "87a80e37",
   "metadata": {},
   "outputs": [],
   "source": [
    "import pandas as pd\n",
    "import matplotlib.pyplot as plt\n",
    "import seaborn as sns\n",
    "import numpy as np"
   ]
  },
  {
   "cell_type": "code",
   "execution_count": 11,
   "id": "5a83a413",
   "metadata": {},
   "outputs": [],
   "source": [
    "d = pd.read_csv('Mumbai House Prices.csv')"
   ]
  },
  {
   "cell_type": "code",
   "execution_count": 12,
   "id": "94162e0c",
   "metadata": {},
   "outputs": [
    {
     "data": {
      "text/html": [
       "<div>\n",
       "<style scoped>\n",
       "    .dataframe tbody tr th:only-of-type {\n",
       "        vertical-align: middle;\n",
       "    }\n",
       "\n",
       "    .dataframe tbody tr th {\n",
       "        vertical-align: top;\n",
       "    }\n",
       "\n",
       "    .dataframe thead th {\n",
       "        text-align: right;\n",
       "    }\n",
       "</style>\n",
       "<table border=\"1\" class=\"dataframe\">\n",
       "  <thead>\n",
       "    <tr style=\"text-align: right;\">\n",
       "      <th></th>\n",
       "      <th>bhk</th>\n",
       "      <th>type</th>\n",
       "      <th>locality</th>\n",
       "      <th>area</th>\n",
       "      <th>price</th>\n",
       "      <th>price_unit</th>\n",
       "      <th>region</th>\n",
       "      <th>status</th>\n",
       "      <th>age</th>\n",
       "    </tr>\n",
       "  </thead>\n",
       "  <tbody>\n",
       "    <tr>\n",
       "      <th>0</th>\n",
       "      <td>3</td>\n",
       "      <td>Apartment</td>\n",
       "      <td>Lak And Hanware The Residency Tower</td>\n",
       "      <td>685</td>\n",
       "      <td>2.50</td>\n",
       "      <td>Cr</td>\n",
       "      <td>Andheri West</td>\n",
       "      <td>Ready to move</td>\n",
       "      <td>New</td>\n",
       "    </tr>\n",
       "    <tr>\n",
       "      <th>1</th>\n",
       "      <td>2</td>\n",
       "      <td>Apartment</td>\n",
       "      <td>Radheya Sai Enclave Building No 2</td>\n",
       "      <td>640</td>\n",
       "      <td>52.51</td>\n",
       "      <td>L</td>\n",
       "      <td>Naigaon East</td>\n",
       "      <td>Under Construction</td>\n",
       "      <td>New</td>\n",
       "    </tr>\n",
       "    <tr>\n",
       "      <th>2</th>\n",
       "      <td>2</td>\n",
       "      <td>Apartment</td>\n",
       "      <td>Romell Serene</td>\n",
       "      <td>610</td>\n",
       "      <td>1.73</td>\n",
       "      <td>Cr</td>\n",
       "      <td>Borivali West</td>\n",
       "      <td>Under Construction</td>\n",
       "      <td>New</td>\n",
       "    </tr>\n",
       "    <tr>\n",
       "      <th>3</th>\n",
       "      <td>2</td>\n",
       "      <td>Apartment</td>\n",
       "      <td>Soundlines Codename Urban Rainforest</td>\n",
       "      <td>876</td>\n",
       "      <td>59.98</td>\n",
       "      <td>L</td>\n",
       "      <td>Panvel</td>\n",
       "      <td>Under Construction</td>\n",
       "      <td>New</td>\n",
       "    </tr>\n",
       "    <tr>\n",
       "      <th>4</th>\n",
       "      <td>2</td>\n",
       "      <td>Apartment</td>\n",
       "      <td>Origin Oriana</td>\n",
       "      <td>659</td>\n",
       "      <td>94.11</td>\n",
       "      <td>L</td>\n",
       "      <td>Mira Road East</td>\n",
       "      <td>Under Construction</td>\n",
       "      <td>New</td>\n",
       "    </tr>\n",
       "    <tr>\n",
       "      <th>...</th>\n",
       "      <td>...</td>\n",
       "      <td>...</td>\n",
       "      <td>...</td>\n",
       "      <td>...</td>\n",
       "      <td>...</td>\n",
       "      <td>...</td>\n",
       "      <td>...</td>\n",
       "      <td>...</td>\n",
       "      <td>...</td>\n",
       "    </tr>\n",
       "    <tr>\n",
       "      <th>76033</th>\n",
       "      <td>3</td>\n",
       "      <td>Apartment</td>\n",
       "      <td>Parinee Liva Roca</td>\n",
       "      <td>1527</td>\n",
       "      <td>7.00</td>\n",
       "      <td>Cr</td>\n",
       "      <td>Juhu</td>\n",
       "      <td>Ready to move</td>\n",
       "      <td>Unknown</td>\n",
       "    </tr>\n",
       "    <tr>\n",
       "      <th>76034</th>\n",
       "      <td>5</td>\n",
       "      <td>Apartment</td>\n",
       "      <td>Parinee Liva Roca</td>\n",
       "      <td>3049</td>\n",
       "      <td>12.00</td>\n",
       "      <td>Cr</td>\n",
       "      <td>Juhu</td>\n",
       "      <td>Ready to move</td>\n",
       "      <td>Unknown</td>\n",
       "    </tr>\n",
       "    <tr>\n",
       "      <th>76035</th>\n",
       "      <td>4</td>\n",
       "      <td>Apartment</td>\n",
       "      <td>Lodha Seaview</td>\n",
       "      <td>3313</td>\n",
       "      <td>10.00</td>\n",
       "      <td>Cr</td>\n",
       "      <td>Napeansea Road</td>\n",
       "      <td>Ready to move</td>\n",
       "      <td>Unknown</td>\n",
       "    </tr>\n",
       "    <tr>\n",
       "      <th>76036</th>\n",
       "      <td>2</td>\n",
       "      <td>Apartment</td>\n",
       "      <td>Hubtown Serene</td>\n",
       "      <td>1305</td>\n",
       "      <td>4.25</td>\n",
       "      <td>Cr</td>\n",
       "      <td>Bandra East</td>\n",
       "      <td>Ready to move</td>\n",
       "      <td>Unknown</td>\n",
       "    </tr>\n",
       "    <tr>\n",
       "      <th>76037</th>\n",
       "      <td>5</td>\n",
       "      <td>Apartment</td>\n",
       "      <td>Sunteck Signature Island</td>\n",
       "      <td>5200</td>\n",
       "      <td>25.00</td>\n",
       "      <td>Cr</td>\n",
       "      <td>Bandra Kurla Complex</td>\n",
       "      <td>Ready to move</td>\n",
       "      <td>Unknown</td>\n",
       "    </tr>\n",
       "  </tbody>\n",
       "</table>\n",
       "<p>76038 rows × 9 columns</p>\n",
       "</div>"
      ],
      "text/plain": [
       "       bhk       type                              locality  area  price  \\\n",
       "0        3  Apartment   Lak And Hanware The Residency Tower   685   2.50   \n",
       "1        2  Apartment     Radheya Sai Enclave Building No 2   640  52.51   \n",
       "2        2  Apartment                         Romell Serene   610   1.73   \n",
       "3        2  Apartment  Soundlines Codename Urban Rainforest   876  59.98   \n",
       "4        2  Apartment                         Origin Oriana   659  94.11   \n",
       "...    ...        ...                                   ...   ...    ...   \n",
       "76033    3  Apartment                     Parinee Liva Roca  1527   7.00   \n",
       "76034    5  Apartment                     Parinee Liva Roca  3049  12.00   \n",
       "76035    4  Apartment                         Lodha Seaview  3313  10.00   \n",
       "76036    2  Apartment                        Hubtown Serene  1305   4.25   \n",
       "76037    5  Apartment              Sunteck Signature Island  5200  25.00   \n",
       "\n",
       "      price_unit                region              status      age  \n",
       "0             Cr          Andheri West       Ready to move      New  \n",
       "1              L          Naigaon East  Under Construction      New  \n",
       "2             Cr         Borivali West  Under Construction      New  \n",
       "3              L                Panvel  Under Construction      New  \n",
       "4              L        Mira Road East  Under Construction      New  \n",
       "...          ...                   ...                 ...      ...  \n",
       "76033         Cr                  Juhu       Ready to move  Unknown  \n",
       "76034         Cr                  Juhu       Ready to move  Unknown  \n",
       "76035         Cr        Napeansea Road       Ready to move  Unknown  \n",
       "76036         Cr           Bandra East       Ready to move  Unknown  \n",
       "76037         Cr  Bandra Kurla Complex       Ready to move  Unknown  \n",
       "\n",
       "[76038 rows x 9 columns]"
      ]
     },
     "execution_count": 12,
     "metadata": {},
     "output_type": "execute_result"
    }
   ],
   "source": [
    "d"
   ]
  },
  {
   "cell_type": "code",
   "execution_count": 13,
   "id": "5fd64a1d",
   "metadata": {},
   "outputs": [
    {
     "data": {
      "text/plain": [
       "(76038, 9)"
      ]
     },
     "execution_count": 13,
     "metadata": {},
     "output_type": "execute_result"
    }
   ],
   "source": [
    "d.shape"
   ]
  },
  {
   "cell_type": "code",
   "execution_count": 14,
   "id": "52070830",
   "metadata": {},
   "outputs": [
    {
     "name": "stdout",
     "output_type": "stream",
     "text": [
      "<class 'pandas.core.frame.DataFrame'>\n",
      "RangeIndex: 76038 entries, 0 to 76037\n",
      "Data columns (total 9 columns):\n",
      " #   Column      Non-Null Count  Dtype  \n",
      "---  ------      --------------  -----  \n",
      " 0   bhk         76038 non-null  int64  \n",
      " 1   type        76038 non-null  object \n",
      " 2   locality    76038 non-null  object \n",
      " 3   area        76038 non-null  int64  \n",
      " 4   price       76038 non-null  float64\n",
      " 5   price_unit  76038 non-null  object \n",
      " 6   region      76038 non-null  object \n",
      " 7   status      76038 non-null  object \n",
      " 8   age         76038 non-null  object \n",
      "dtypes: float64(1), int64(2), object(6)\n",
      "memory usage: 5.2+ MB\n"
     ]
    }
   ],
   "source": [
    "d.info()"
   ]
  },
  {
   "cell_type": "code",
   "execution_count": 15,
   "id": "17b68983",
   "metadata": {},
   "outputs": [
    {
     "data": {
      "text/html": [
       "<div>\n",
       "<style scoped>\n",
       "    .dataframe tbody tr th:only-of-type {\n",
       "        vertical-align: middle;\n",
       "    }\n",
       "\n",
       "    .dataframe tbody tr th {\n",
       "        vertical-align: top;\n",
       "    }\n",
       "\n",
       "    .dataframe thead th {\n",
       "        text-align: right;\n",
       "    }\n",
       "</style>\n",
       "<table border=\"1\" class=\"dataframe\">\n",
       "  <thead>\n",
       "    <tr style=\"text-align: right;\">\n",
       "      <th></th>\n",
       "      <th>bhk</th>\n",
       "      <th>area</th>\n",
       "      <th>price</th>\n",
       "    </tr>\n",
       "  </thead>\n",
       "  <tbody>\n",
       "    <tr>\n",
       "      <th>count</th>\n",
       "      <td>76038.000000</td>\n",
       "      <td>76038.000000</td>\n",
       "      <td>76038.00000</td>\n",
       "    </tr>\n",
       "    <tr>\n",
       "      <th>mean</th>\n",
       "      <td>2.015111</td>\n",
       "      <td>1024.536850</td>\n",
       "      <td>29.38227</td>\n",
       "    </tr>\n",
       "    <tr>\n",
       "      <th>std</th>\n",
       "      <td>0.922754</td>\n",
       "      <td>670.276165</td>\n",
       "      <td>32.90345</td>\n",
       "    </tr>\n",
       "    <tr>\n",
       "      <th>min</th>\n",
       "      <td>1.000000</td>\n",
       "      <td>127.000000</td>\n",
       "      <td>1.00000</td>\n",
       "    </tr>\n",
       "    <tr>\n",
       "      <th>25%</th>\n",
       "      <td>1.000000</td>\n",
       "      <td>640.000000</td>\n",
       "      <td>1.75000</td>\n",
       "    </tr>\n",
       "    <tr>\n",
       "      <th>50%</th>\n",
       "      <td>2.000000</td>\n",
       "      <td>872.000000</td>\n",
       "      <td>5.50000</td>\n",
       "    </tr>\n",
       "    <tr>\n",
       "      <th>75%</th>\n",
       "      <td>3.000000</td>\n",
       "      <td>1179.000000</td>\n",
       "      <td>59.00000</td>\n",
       "    </tr>\n",
       "    <tr>\n",
       "      <th>max</th>\n",
       "      <td>10.000000</td>\n",
       "      <td>16000.000000</td>\n",
       "      <td>99.99000</td>\n",
       "    </tr>\n",
       "  </tbody>\n",
       "</table>\n",
       "</div>"
      ],
      "text/plain": [
       "                bhk          area        price\n",
       "count  76038.000000  76038.000000  76038.00000\n",
       "mean       2.015111   1024.536850     29.38227\n",
       "std        0.922754    670.276165     32.90345\n",
       "min        1.000000    127.000000      1.00000\n",
       "25%        1.000000    640.000000      1.75000\n",
       "50%        2.000000    872.000000      5.50000\n",
       "75%        3.000000   1179.000000     59.00000\n",
       "max       10.000000  16000.000000     99.99000"
      ]
     },
     "execution_count": 15,
     "metadata": {},
     "output_type": "execute_result"
    }
   ],
   "source": [
    "d.describe()"
   ]
  },
  {
   "cell_type": "code",
   "execution_count": 16,
   "id": "6274cd8e",
   "metadata": {},
   "outputs": [],
   "source": [
    "numeric_data = d.select_dtypes(include=[np.number])"
   ]
  },
  {
   "cell_type": "code",
   "execution_count": 17,
   "id": "af3a58a1",
   "metadata": {},
   "outputs": [],
   "source": [
    "data1 = numeric_data.corr()"
   ]
  },
  {
   "cell_type": "code",
   "execution_count": 18,
   "id": "b0f93dd4",
   "metadata": {},
   "outputs": [
    {
     "data": {
      "text/html": [
       "<div>\n",
       "<style scoped>\n",
       "    .dataframe tbody tr th:only-of-type {\n",
       "        vertical-align: middle;\n",
       "    }\n",
       "\n",
       "    .dataframe tbody tr th {\n",
       "        vertical-align: top;\n",
       "    }\n",
       "\n",
       "    .dataframe thead th {\n",
       "        text-align: right;\n",
       "    }\n",
       "</style>\n",
       "<table border=\"1\" class=\"dataframe\">\n",
       "  <thead>\n",
       "    <tr style=\"text-align: right;\">\n",
       "      <th></th>\n",
       "      <th>bhk</th>\n",
       "      <th>area</th>\n",
       "      <th>price</th>\n",
       "    </tr>\n",
       "  </thead>\n",
       "  <tbody>\n",
       "    <tr>\n",
       "      <th>bhk</th>\n",
       "      <td>1.000000</td>\n",
       "      <td>0.787738</td>\n",
       "      <td>-0.425078</td>\n",
       "    </tr>\n",
       "    <tr>\n",
       "      <th>area</th>\n",
       "      <td>0.787738</td>\n",
       "      <td>1.000000</td>\n",
       "      <td>-0.309381</td>\n",
       "    </tr>\n",
       "    <tr>\n",
       "      <th>price</th>\n",
       "      <td>-0.425078</td>\n",
       "      <td>-0.309381</td>\n",
       "      <td>1.000000</td>\n",
       "    </tr>\n",
       "  </tbody>\n",
       "</table>\n",
       "</div>"
      ],
      "text/plain": [
       "            bhk      area     price\n",
       "bhk    1.000000  0.787738 -0.425078\n",
       "area   0.787738  1.000000 -0.309381\n",
       "price -0.425078 -0.309381  1.000000"
      ]
     },
     "execution_count": 18,
     "metadata": {},
     "output_type": "execute_result"
    }
   ],
   "source": [
    "data1"
   ]
  },
  {
   "cell_type": "code",
   "execution_count": 20,
   "id": "f8cf00ea",
   "metadata": {},
   "outputs": [
    {
     "data": {
      "image/png": "[encoded data removed]",
      "text/plain": [
       "<Figure size 500x400 with 2 Axes>"
      ]
     },
     "metadata": {},
     "output_type": "display_data"
    }
   ],
   "source": [
    "corr = numeric_data.corr()\n",
    "\n",
    "fig, ax = plt.subplots(figsize=(5, 4))\n",
    "\n",
    "\n",
    "sns.heatmap(corr, annot=True, ax=ax, cmap='coolwarm')\n",
    "plt.show()"
   ]
  },
  {
   "cell_type": "code",
   "execution_count": 21,
   "id": "cfdcfda6",
   "metadata": {},
   "outputs": [
    {
     "ename": "NameError",
     "evalue": "name 'object_cols' is not defined",
     "output_type": "error",
     "traceback": [
      "\u001b[1;31m---------------------------------------------------------------------------\u001b[0m",
      "\u001b[1;31mNameError\u001b[0m                                 Traceback (most recent call last)",
      "Cell \u001b[1;32mIn[21], line 3\u001b[0m\n\u001b[0;32m      1\u001b[0m unique_values \u001b[38;5;241m=\u001b[39m []\n\u001b[1;32m----> 3\u001b[0m \u001b[38;5;28;01mfor\u001b[39;00m col \u001b[38;5;129;01min\u001b[39;00m object_cols:\n\u001b[0;32m      4\u001b[0m     unique_values\u001b[38;5;241m.\u001b[39mappend(d[col]\u001b[38;5;241m.\u001b[39munique()\u001b[38;5;241m.\u001b[39msize)\n\u001b[0;32m      5\u001b[0m plt\u001b[38;5;241m.\u001b[39mfigure(figsize \u001b[38;5;241m=\u001b[39m (\u001b[38;5;241m5\u001b[39m,\u001b[38;5;241m4\u001b[39m))\n",
      "\u001b[1;31mNameError\u001b[0m: name 'object_cols' is not defined"
     ]
    }
   ],
   "source": []
  },
  {
   "cell_type": "code",
   "execution_count": null,
   "id": "a9fa5f33",
   "metadata": {},
   "outputs": [],
   "source": []
  }
 ],
 "metadata": {
  "kernelspec": {
   "display_name": "Python 3 (ipykernel)",
   "language": "python",
   "name": "python3"
  },
  "language_info": {
   "codemirror_mode": {
    "name": "ipython",
    "version": 3
   },
   "file_extension": ".py",
   "mimetype": "text/x-python",
   "name": "python",
   "nbconvert_exporter": "python",
   "pygments_lexer": "ipython3",
   "version": "3.11.5"
  }
 },
 "nbformat": 4,
 "nbformat_minor": 5
}
